{
  "nbformat": 4,
  "nbformat_minor": 0,
  "metadata": {
    "colab": {
      "provenance": [],
      "authorship_tag": "ABX9TyPK8cYOJGa0Z51Qf752L7yk",
      "include_colab_link": true
    },
    "kernelspec": {
      "name": "python3",
      "display_name": "Python 3"
    },
    "language_info": {
      "name": "python"
    }
  },
  "cells": [
    {
      "cell_type": "markdown",
      "metadata": {
        "id": "view-in-github",
        "colab_type": "text"
      },
      "source": [
        "<a href=\"https://colab.research.google.com/github/nngiabao/MLPractice/blob/main/DigitRecognizer.ipynb\" target=\"_parent\"><img src=\"https://colab.research.google.com/assets/colab-badge.svg\" alt=\"Open In Colab\"/></a>"
      ]
    },
    {
      "cell_type": "code",
      "execution_count": null,
      "metadata": {
        "id": "nrMSSPoFRrtH"
      },
      "outputs": [],
      "source": [
        "#MNISTDigit Recognition\n",
        "#CNN Deep Learning\n",
        "#Link: https://www.kaggle.com/code/ibrahimqasimi/mnist-digit-recognition-cnn-deep-learning"
      ]
    },
    {
      "cell_type": "code",
      "source": [
        "#data handling and numerical computatioms\n",
        "import numpy as np\n",
        "import pandas as pd\n",
        "#data visualization\n",
        "import matplotlib.pyplot as plt\n",
        "import seaborn as sns\n",
        "#load MNIST dataset from Keras\n",
        "from tensorflow.keras.datasets import mnist\n",
        "#"
      ],
      "metadata": {
        "id": "a6kJnsfKR8u3"
      },
      "execution_count": null,
      "outputs": []
    },
    {
      "cell_type": "code",
      "source": [
        "#spliting into train and test sets\n",
        "(X_train, y_train), (X_test, y_test) = mnist.load_data()\n",
        "#Display dataset shapes\n",
        "print('X_train shape:', X_train.shape)\n",
        "print('y_train shape:', y_train.shape)\n",
        "print('X_test shape:', X_test.shape)\n",
        "print('y_test shape:', y_test.shape)"
      ],
      "metadata": {
        "id": "xr6iOoN8Yynk"
      },
      "execution_count": null,
      "outputs": []
    },
    {
      "cell_type": "code",
      "source": [
        "#\n",
        "num_epochs = 100\n",
        "running_loss = 0.0\n",
        "#\n",
        "for epoch in range(num_epochs):\n",
        "  for i, data in enumerate(train_loader, 0):\n",
        "    inputs, labels = data\n",
        "    optimizer.zero_grad()\n",
        "    outputs = model(inputs)\n",
        "    loss = criterion(outputs, labels)\n",
        "    loss.backward()\n",
        "    optimizer.step()"
      ],
      "metadata": {
        "id": "8aTbghJ1fBaJ"
      },
      "execution_count": null,
      "outputs": []
    }
  ]
}